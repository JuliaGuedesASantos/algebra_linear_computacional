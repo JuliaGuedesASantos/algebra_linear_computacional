{
 "cells": [
  {
   "cell_type": "code",
   "execution_count": 12,
   "metadata": {},
   "outputs": [],
   "source": [
    "# Importação de Bibliotecas\n",
    "import numpy as np"
   ]
  },
  {
   "cell_type": "code",
   "execution_count": 13,
   "metadata": {},
   "outputs": [],
   "source": [
    "# Códigos da atividade passada (Matriz Inversa)\n",
    "def retirar_linha_coluna(array, linha_remover, coluna_remover):\n",
    "    nova_matriz = []\n",
    "\n",
    "    for i, linha in enumerate(array):\n",
    "        if i != linha_remover:\n",
    "            nova_linha = []\n",
    "            for j, elemento in enumerate(linha):\n",
    "                if j != coluna_remover:\n",
    "                    nova_linha.append(elemento)\n",
    "            nova_matriz.append(nova_linha)\n",
    "    return nova_matriz\n",
    "\n",
    "def determinante(array):\n",
    "    tamanho = len(array)\n",
    "    if len(array) == 1:\n",
    "        return array[0][0]\n",
    "    if len(array) == 2:\n",
    "        return array[0][0]*array[1][1] - array[0][1]*array[1][0]\n",
    "    det = 0\n",
    "    for coluna in range(tamanho):\n",
    "        submatriz = retirar_linha_coluna(array, 0, coluna)\n",
    "        cofator = ((-1) ** coluna) * array[0][coluna] * determinante(submatriz)\n",
    "        det += cofator  \n",
    "    return det\n",
    "\n",
    "def cofator(array, i, j):\n",
    "    submatriz = retirar_linha_coluna(array, i, j)\n",
    "    cofator_val = ((-1) ** (i + j)) * determinante(submatriz)\n",
    "    return cofator_val\n",
    "\n",
    "def matriz_transposta(array):\n",
    "    transposta = []\n",
    "    num_linhas = len(array)\n",
    "    num_colunas = len(array[0])\n",
    "\n",
    "    for j in range(num_colunas):\n",
    "        nova_linha = []\n",
    "        for i in range(num_linhas):\n",
    "            nova_linha.append(array[i][j])\n",
    "        transposta.append(nova_linha)\n",
    "    return transposta\n",
    "\n",
    "def matriz_inversa(array):\n",
    "    matriz = list(array)\n",
    "    determinante_array = determinante(array)\n",
    "    if determinante_array != 0:\n",
    "        matriz_aji = []\n",
    "        matriz_aji = []\n",
    "        for i in range(len(array)):\n",
    "            linha_aji = []\n",
    "            for j in range(len(array[i])):\n",
    "                item_cofator = cofator(array, i, j)\n",
    "                linha_aji.append(item_cofator)\n",
    "            matriz_aji.append(linha_aji)\n",
    "        matriz_aji = np.array(matriz_aji)\n",
    "        #print(matriz_aji)\n",
    "        matriz_adj = matriz_transposta(matriz_aji)\n",
    "        #print(matriz_adj)\n",
    "        matriz_adj = np.array(matriz_adj)\n",
    "        matriz_inversa = (1/determinante_array) * matriz_adj\n",
    "    else:\n",
    "        raise ValueError(\"Não é possível calcular a matriz inversa de matrizes com determinante igual a 0!\")\n",
    "    return matriz_inversa"
   ]
  },
  {
   "cell_type": "code",
   "execution_count": 14,
   "metadata": {},
   "outputs": [
    {
     "data": {
      "text/plain": [
       "array([[ 1.],\n",
       "       [ 1.],\n",
       "       [-1.],\n",
       "       [-1.]])"
      ]
     },
     "execution_count": 14,
     "metadata": {},
     "output_type": "execute_result"
    }
   ],
   "source": [
    "matrizA = np.array([[2,1,1,0],[0,1,1,1],[0,0,2,2],[0,0,0,2]])\n",
    "matrizx = np.array([[\"x\"],[\"y\"],[\"z\"],[\"w\"]])\n",
    "matrizB = np.array([[2], [-1], [-4], [-2]])\n",
    "\n",
    "def verificador_matriz_triangular_superior(matriz):\n",
    "    \"\"\"Essa função, teorciamente, é meio inútil, mas ainda funciona e é divertida\"\"\"\n",
    "    contador = 0\n",
    "    verificador_de_mts = 0\n",
    "    tamanho_matriz = len(matriz)\n",
    "\n",
    "    for i in range(tamanho_matriz):\n",
    "        for j in range(tamanho_matriz):\n",
    "            if j < i: \n",
    "                contador += 1 \n",
    "                if matriz[i, j] == 0:\n",
    "                    verificador_de_mts += 1\n",
    "            \n",
    "\n",
    "    if verificador_de_mts == contador:\n",
    "        return True\n",
    "    else:\n",
    "        return False\n",
    "\n",
    "def resolucao_sl_por_matriz_inversa(matrizA, matrizx, matrizB):\n",
    "    \"\"\"Sei que era para fazer apenas pelo método recursivo, mas já estava quase pronto, então só fiz\"\"\"\n",
    "    if verificador_matriz_triangular_superior(matrizA):\n",
    "        matrizA_inversa = matriz_inversa(matrizA)\n",
    "        matrizx_resolvida = matrizA_inversa @ matrizB\n",
    "        return matrizx_resolvida\n",
    "    else:\n",
    "        ValueError(\"Essa matriz não é triangular superior :(\")\n",
    "    \n",
    "resolucao_sl_por_matriz_inversa(matrizA, matrizx, matrizB)"
   ]
  },
  {
   "cell_type": "code",
   "execution_count": 15,
   "metadata": {},
   "outputs": [
    {
     "name": "stdout",
     "output_type": "stream",
     "text": [
      "A variável ['x'] é igual a [1.]\n",
      "A variável ['y'] é igual a [1.]\n",
      "A variável ['z'] é igual a [-1.]\n",
      "A variável ['w'] é igual a [-1.]\n"
     ]
    }
   ],
   "source": [
    "def decodificando_variáveis(matrizx, matrizx_resolvida):\n",
    "    \"\"\"Apenas uma brincadeira para ajudar na visualização da resolução do sistema linear\"\"\"\n",
    "    \n",
    "    for variavel,resultado in zip(matrizx, matrizx_resolvida):\n",
    "        print(f\"A variável {variavel} é igual a {resultado}\")\n",
    "matrizx_resolvida = resolucao_sl_por_matriz_inversa(matrizA, matrizx, matrizB)\n",
    "decodificando_variáveis(matrizx, matrizx_resolvida)"
   ]
  },
  {
   "cell_type": "code",
   "execution_count": 16,
   "metadata": {},
   "outputs": [],
   "source": [
    "def resolucao_matriz_triangular_superior(matrizA, matrizB):\n",
    "    \"\"\"Agora sim é o código certo.\"\"\"\n",
    "    tamanho = len(matrizA)\n",
    "    solucao = np.zeros(tamanho)\n",
    "    \n",
    "    for linha in range(tamanho - 1, -1, -1):\n",
    "        soma = 0\n",
    "        for coluna in range(linha + 1, tamanho):\n",
    "            soma += matrizA[linha][coluna] * solucao[coluna]\n",
    "        \n",
    "        solucao[linha] = (matrizB[linha] - soma) / matrizA[linha][linha]\n",
    "        \n",
    "    return solucao\n"
   ]
  },
  {
   "cell_type": "code",
   "execution_count": 17,
   "metadata": {},
   "outputs": [
    {
     "name": "stderr",
     "output_type": "stream",
     "text": [
      "C:\\Users\\julia24002\\AppData\\Local\\Temp\\ipykernel_41692\\3307349425.py:11: DeprecationWarning: Conversion of an array with ndim > 0 to a scalar is deprecated, and will error in future. Ensure you extract a single element from your array before performing this operation. (Deprecated NumPy 1.25.)\n",
      "  solucao[linha] = (matrizB[linha] - soma) / matrizA[linha][linha]\n"
     ]
    },
    {
     "data": {
      "text/plain": [
       "array([ 1.,  1., -1., -1.])"
      ]
     },
     "execution_count": 17,
     "metadata": {},
     "output_type": "execute_result"
    }
   ],
   "source": [
    "def eliminacao_gaussiana(MatrizA, MatrizB):\n",
    "    \"\"\"Função para resolver a Gaussiana. Por favor, ignore a parte sobre atualização\"\"\"\n",
    "    tamanho = len(MatrizA)\n",
    "    for i in range(tamanho):\n",
    "        for j in range(i + 1, tamanho):\n",
    "            mij = MatrizA[j][i] / MatrizA[i][i]\n",
    "            MatrizB[j] = MatrizB[j] - mij * MatrizB[i]\n",
    "            for k in range(i, tamanho):\n",
    "                MatrizA[j][k] = MatrizA[j][k] - mij * MatrizA[i][k]\n",
    "                \n",
    "    resolucao = resolucao_matriz_triangular_superior(MatrizA, MatrizB)\n",
    "    return resolucao\n",
    "\n",
    "MatrizA = np.array([[2,1,1,0], [4,3,3,1], [8,7,9,5], [6,7,9,8]])\n",
    "MatrizB= np.array([[2], [3], [1], [-4]])\n",
    "\n",
    "eliminacao_gaussiana(MatrizA, MatrizB)\n"
   ]
  },
  {
   "cell_type": "code",
   "execution_count": 41,
   "metadata": {},
   "outputs": [
    {
     "name": "stderr",
     "output_type": "stream",
     "text": [
      "C:\\Users\\julia24002\\AppData\\Local\\Temp\\ipykernel_41692\\3307349425.py:11: DeprecationWarning: Conversion of an array with ndim > 0 to a scalar is deprecated, and will error in future. Ensure you extract a single element from your array before performing this operation. (Deprecated NumPy 1.25.)\n",
      "  solucao[linha] = (matrizB[linha] - soma) / matrizA[linha][linha]\n"
     ]
    },
    {
     "data": {
      "text/plain": [
       "array([ 1.,  1., -1., -1.])"
      ]
     },
     "execution_count": 41,
     "metadata": {},
     "output_type": "execute_result"
    }
   ],
   "source": [
    "# Eliminação Gaussiana com pivoteamento\n",
    "# Ajuda: Ana Luz\n",
    "\n",
    "def linha_mais_valiosa(MatrizA, tamanho, j):\n",
    "    maior_valor = float(\"-inf\")\n",
    "    indice_maior_valor = tamanho\n",
    "    for i in range(tamanho):\n",
    "        if abs(MatrizA[i][j])> maior_valor:\n",
    "            indice_maior_valor = i\n",
    "            maior_valor = abs(MatrizA[i][j])\n",
    "            \n",
    "    return indice_maior_valor\n",
    "\n",
    "def trocar_linha(MatrizA, MatrizB, linha, coluna):\n",
    "    tamanho = len(MatrizA)\n",
    "        \n",
    "    linha_maior_valor_DP = linha_mais_valiosa(MatrizA, tamanho, coluna)\n",
    "    \n",
    "    MatrizA[[linha, linha_maior_valor_DP]] = MatrizA[[linha_maior_valor_DP, linha]]\n",
    "    \n",
    "    MatrizB[[linha, linha_maior_valor_DP]] = MatrizB[[linha_maior_valor_DP, linha]]\n",
    "        \n",
    "    return MatrizA, MatrizB\n",
    "\n",
    "def eliminacao_gaussiana_com_pivotiamento(MatrizA, MatrizB):\n",
    "    \"\"\"Função para resolver a Gaussiana com pivoteamento. Finalmente deu certo :)\"\"\"\n",
    "\n",
    "    tamanho = len(MatrizA)\n",
    "    \n",
    "    MatrizA, MatrizB = trocar_linha(MatrizA, MatrizB, tamanho-1, tamanho-1)\n",
    "    \n",
    "    for i in range(tamanho):\n",
    "        \n",
    "        for j in range(i + 1, tamanho):\n",
    "            mij = MatrizA[j][i] / MatrizA[i][i]\n",
    "            MatrizB[j] = MatrizB[j] - mij * MatrizB[i]\n",
    "            for k in range(i, tamanho):\n",
    "                MatrizA[j][k] = MatrizA[j][k] - mij * MatrizA[i][k]\n",
    "                \n",
    "    resolucao = resolucao_matriz_triangular_superior(MatrizA, MatrizB)\n",
    "    return resolucao\n",
    "\n",
    "MatrizA1 = np.array([[2,1,1,0], [4,3,3,1], [8,7,9,5], [6,7,9,8]])\n",
    "MatrizB1= np.array([[2], [3], [1], [-4]])\n",
    "\n",
    "eliminacao_gaussiana_com_pivotiamento(MatrizA1, MatrizB1)"
   ]
  },
  {
   "cell_type": "code",
   "execution_count": 45,
   "metadata": {},
   "outputs": [
    {
     "name": "stdout",
     "output_type": "stream",
     "text": [
      "-0.27\n",
      "-50.0\n",
      "1472.73\n",
      "-4454.55\n"
     ]
    },
    {
     "name": "stderr",
     "output_type": "stream",
     "text": [
      "C:\\Users\\julia24002\\AppData\\Local\\Temp\\ipykernel_41692\\3307349425.py:11: DeprecationWarning: Conversion of an array with ndim > 0 to a scalar is deprecated, and will error in future. Ensure you extract a single element from your array before performing this operation. (Deprecated NumPy 1.25.)\n",
      "  solucao[linha] = (matrizB[linha] - soma) / matrizA[linha][linha]\n"
     ]
    }
   ],
   "source": [
    "matrizv = np.array([[1,0.1,0.01, 0.001], [1,0.2, 0.04, 0.008], [1,0.3, 0.09, 0.027], [1, 0.4, 0.09, 0.027]])\n",
    "matriza = np.array([[5], [13], [-4], [-8]])\n",
    "a = list(eliminacao_gaussiana_com_pivotiamento(matrizv, matriza))\n",
    "for i in a:\n",
    "    print(round(i,2))"
   ]
  }
 ],
 "metadata": {
  "kernelspec": {
   "display_name": "ilumpy",
   "language": "python",
   "name": "ilumpy"
  },
  "language_info": {
   "codemirror_mode": {
    "name": "ipython",
    "version": 3
   },
   "file_extension": ".py",
   "mimetype": "text/x-python",
   "name": "python",
   "nbconvert_exporter": "python",
   "pygments_lexer": "ipython3",
   "version": "3.11.6"
  }
 },
 "nbformat": 4,
 "nbformat_minor": 2
}
