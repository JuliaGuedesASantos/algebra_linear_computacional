{
 "cells": [
  {
   "cell_type": "markdown",
   "metadata": {},
   "source": [
    "##### **Importação de bibliotecas**"
   ]
  },
  {
   "cell_type": "code",
   "execution_count": 1,
   "metadata": {},
   "outputs": [],
   "source": [
    "import numpy as np\n",
    "import timeit"
   ]
  },
  {
   "cell_type": "code",
   "execution_count": null,
   "metadata": {},
   "outputs": [],
   "source": [
    "from math import sqrt\n",
    "import numpy as np\n",
    "import seaborn as sns\n",
    "import pandas as pd"
   ]
  },
  {
   "cell_type": "markdown",
   "metadata": {},
   "source": [
    "##### **Matrizes de teste**"
   ]
  },
  {
   "cell_type": "code",
   "execution_count": 3,
   "metadata": {},
   "outputs": [],
   "source": [
    "MatrizALU = np.array([[2,1,1,0], [4,3,3,1], [8,7,9,5], [6,7,9,8]])\n",
    "MatrizBLU= np.array([[2], [3], [1], [-4]])\n"
   ]
  },
  {
   "cell_type": "markdown",
   "metadata": {},
   "source": [
    "##### **Códigos das atividades passsadas**"
   ]
  },
  {
   "cell_type": "code",
   "execution_count": 4,
   "metadata": {},
   "outputs": [],
   "source": [
    "# Matriz Inversa\n",
    "def retirar_linha_coluna(array, linha_remover, coluna_remover):\n",
    "    nova_matriz = []\n",
    "\n",
    "    for i, linha in enumerate(array):\n",
    "        if i != linha_remover:\n",
    "            nova_linha = []\n",
    "            for j, elemento in enumerate(linha):\n",
    "                if j != coluna_remover:\n",
    "                    nova_linha.append(elemento)\n",
    "            nova_matriz.append(nova_linha)\n",
    "    return nova_matriz\n",
    "\n",
    "def determinante(array):\n",
    "    tamanho = len(array)\n",
    "    if len(array) == 1:\n",
    "        return array[0][0]\n",
    "    if len(array) == 2:\n",
    "        return array[0][0]*array[1][1] - array[0][1]*array[1][0]\n",
    "    det = 0\n",
    "    for coluna in range(tamanho):\n",
    "        submatriz = retirar_linha_coluna(array, 0, coluna)\n",
    "        cofator = ((-1) ** coluna) * array[0][coluna] * determinante(submatriz)\n",
    "        det += cofator  \n",
    "    return det\n",
    "\n",
    "def cofator(array, i, j):\n",
    "    submatriz = retirar_linha_coluna(array, i, j)\n",
    "    cofator_val = ((-1) ** (i + j)) * determinante(submatriz)\n",
    "    return cofator_val\n",
    "\n",
    "def matriz_transposta(array):\n",
    "    transposta = []\n",
    "    num_linhas = len(array)\n",
    "    num_colunas = len(array[0])\n",
    "\n",
    "    for j in range(num_colunas):\n",
    "        nova_linha = []\n",
    "        for i in range(num_linhas):\n",
    "            nova_linha.append(array[i][j])\n",
    "        transposta.append(nova_linha)\n",
    "    return transposta\n",
    "\n",
    "\n",
    "# Eliminação Gaussiana\n",
    "def resolucao_matriz_triangular_superior(matrizA, matrizB):\n",
    "    tamanho = len(matrizA)\n",
    "    solucao = np.zeros(tamanho)\n",
    "    \n",
    "    for linha in range(tamanho - 1, -1, -1):\n",
    "        soma = 0\n",
    "        for coluna in range(linha + 1, tamanho):\n",
    "            soma += matrizA[linha][coluna] * solucao[coluna] \n",
    "        \n",
    "        solucao[linha] = (matrizB[linha] - soma) / matrizA[linha][linha] \n",
    "        \n",
    "    return solucao\n",
    "\n",
    "def eliminacao_gaussiana(MatrizA, MatrizB):\n",
    "    tamanho = len(MatrizA)\n",
    "        \n",
    "    for i in range(tamanho):\n",
    "        \n",
    "        for j in range(i + 1, tamanho):\n",
    "            mij = MatrizA[j][i] / MatrizA[i][i] \n",
    "            MatrizB[j] = MatrizB[j] - mij * MatrizB[i] \n",
    "            for k in range(i, tamanho):\n",
    "                MatrizA[j][k] = MatrizA[j][k] - mij * MatrizA[i][k] \n",
    "                \n",
    "    resolucao = resolucao_matriz_triangular_superior(MatrizA, MatrizB)\n",
    "    return resolucao\n"
   ]
  },
  {
   "cell_type": "markdown",
   "metadata": {},
   "source": [
    "##### **Código Decomposição LU**"
   ]
  },
  {
   "cell_type": "code",
   "execution_count": 5,
   "metadata": {},
   "outputs": [],
   "source": [
    "def decomposicao_LU(MatrizA):\n",
    "    \n",
    "    tamanho = len(MatrizA) # Tamanho da matriz\n",
    "    \n",
    "    MatrizL = np.eye(tamanho) # Criação de uma matriz identidade para ser a base da MatrizL \n",
    "    MatrizU = MatrizA.copy() # Criação de uma matriz base para a MatrizU\n",
    "    \n",
    "    # Pivoteamento\n",
    "    MatrizP = np.eye(tamanho) # Matriz para a permutação\n",
    "    \n",
    "    for i in range(tamanho): # Define qual será a linha com o maior valor absoluto para ser o pivô\n",
    "        linha_max = i\n",
    "        for k in range(i + 1, tamanho):\n",
    "            if abs(MatrizU[k, i]) > abs(MatrizU[linha_max, i]):\n",
    "                linha_max = k\n",
    "        \n",
    "    if i != linha_max: # Se a linha em análise não é a linha com o maior valor absoluto na coluna (linha_max), realiza a troca\n",
    "        MatrizU[[i, linha_max], :] = MatrizU[[linha_max, i], :] # Realiza a troca das linhas\n",
    "        MatrizP[[i, linha_max], :] = MatrizP[[linha_max, i], :]\n",
    "        # Os dois pontos são utilizados para garantir que todas as colunas serão englobadas\n",
    "            \n",
    "        if i > 0: # Se a linha atual não for a primeira (não toca nela...), também troca os elementos correspondentes na matriz MatrizL\n",
    "            MatrizL[[i, linha_max], :i] = MatrizL[[linha_max, i], :i]\n",
    "            \n",
    "    # Multiplicadores e criação das matrizes L e U\n",
    "                \n",
    "    for i in range(tamanho): # Cálculo dos multiplicadores da MatrizA e atualizações das matrizes L e U\n",
    "        for j in range(i + 1, tamanho):\n",
    "            mij = MatrizU[j][i] / MatrizU[i][i] \n",
    "            MatrizL[j][i] = mij\n",
    "            for k in range(i, tamanho):\n",
    "                MatrizU[j, k] -= mij * MatrizU[i, k] \n",
    "    return MatrizP, MatrizL, MatrizU\n",
    "\n",
    "MatrizP, MatrizL, MatrizU = decomposicao_LU(MatrizALU)\n",
    "\n",
    "def resolucao_matriz_triangular_inferior(matrizA, matrizB): \n",
    "    # Função para a resolução de uma matriz triangular inferior baseada na função de resolução para a matriz triangular superior\n",
    "    tamanho = len(matrizA)\n",
    "    solucao = np.zeros(tamanho)\n",
    "    \n",
    "    for linha in range(tamanho): # A iteração acontece de forma crescente\n",
    "        soma = 0\n",
    "        for coluna in range(linha):\n",
    "            soma += matrizA[linha][coluna] * solucao[coluna] \n",
    "        \n",
    "        solucao[linha] = (matrizB[linha] - soma) / matrizA[linha][linha] \n",
    "        \n",
    "    return solucao\n",
    "\n",
    "def resolucao_decomposicao_LU(MatrizL, MatrizU, MatrizB, MatrizP):\n",
    "    MatrizB_perm = MatrizP @ MatrizB  # Permutar o vetor B\n",
    "    MatrizV = resolucao_matriz_triangular_inferior(MatrizL, MatrizB_perm) # Resolução da Matriz v (sistema Lv = b, sendo v = Uu)\n",
    "    Matriz_Resposta = resolucao_matriz_triangular_superior(MatrizU, MatrizV) # Resolução da Matriz Resposta (sistema Uu = v )\n",
    "    return Matriz_Resposta"
   ]
  },
  {
   "cell_type": "code",
   "execution_count": 6,
   "metadata": {},
   "outputs": [
    {
     "name": "stderr",
     "output_type": "stream",
     "text": [
      "C:\\Users\\julia24002\\AppData\\Local\\Temp\\ipykernel_27292\\2735442049.py:47: DeprecationWarning: Conversion of an array with ndim > 0 to a scalar is deprecated, and will error in future. Ensure you extract a single element from your array before performing this operation. (Deprecated NumPy 1.25.)\n",
      "  solucao[linha] = (matrizB[linha] - soma) / matrizA[linha][linha]\n"
     ]
    },
    {
     "data": {
      "text/plain": [
       "array([ 1.,  1., -1., -1.])"
      ]
     },
     "execution_count": 6,
     "metadata": {},
     "output_type": "execute_result"
    }
   ],
   "source": [
    "decomposicao_LU(MatrizALU)\n",
    "resolucao_decomposicao_LU(MatrizL, MatrizU, MatrizBLU, MatrizP)"
   ]
  },
  {
   "cell_type": "markdown",
   "metadata": {},
   "source": [
    "##### **Qual é a vantagem do método LU?**"
   ]
  },
  {
   "cell_type": "code",
   "execution_count": 7,
   "metadata": {},
   "outputs": [
    {
     "name": "stdout",
     "output_type": "stream",
     "text": [
      "O tempo utilizado foi de 0.001354500069282949\n",
      "O tempo utilizado foi de 0.00039190007373690605\n",
      "0.001746400143019855\n"
     ]
    },
    {
     "name": "stderr",
     "output_type": "stream",
     "text": [
      "C:\\Users\\julia24002\\AppData\\Local\\Temp\\ipykernel_27292\\840781635.py:55: DeprecationWarning: Conversion of an array with ndim > 0 to a scalar is deprecated, and will error in future. Ensure you extract a single element from your array before performing this operation. (Deprecated NumPy 1.25.)\n",
      "  solucao[linha] = (matrizB[linha] - soma) / matrizA[linha][linha]\n"
     ]
    }
   ],
   "source": [
    "# Teste 1\n",
    "MatrizA1 = np.array([[2,1,1,0], [4,3,3,1], [8,7,9,5], [6,7,9,8]])\n",
    "MatrizB1= np.array([[2], [3], [1], [-4]])\n",
    "\n",
    "\n",
    "# Gaussiana\n",
    "tempo_inicial = timeit.default_timer()\n",
    "solucao_gaussiana = eliminacao_gaussiana(MatrizA1, MatrizB1)\n",
    "tempo_final = timeit.default_timer()\n",
    "diferenca_de_tempo1 = tempo_final-tempo_inicial\n",
    "print(f\"O tempo utilizado foi de {diferenca_de_tempo1}\")\n",
    "\n",
    "MatrizA3 = np.array([[2,1,1,0], [4,3,3,1], [8,7,9,5], [6,7,9,8]])\n",
    "MatrizB3= np.array([[3], [4], [5], [10]])\n",
    "\n",
    "tempo_inicial = timeit.default_timer()\n",
    "solucao_gaussiana = eliminacao_gaussiana(MatrizA1, MatrizB1)\n",
    "tempo_final = timeit.default_timer()\n",
    "diferenca_de_tempo3 = tempo_final-tempo_inicial\n",
    "print(f\"O tempo utilizado foi de {diferenca_de_tempo3}\")\n",
    "\n",
    "print(diferenca_de_tempo1+diferenca_de_tempo3)"
   ]
  },
  {
   "cell_type": "code",
   "execution_count": 8,
   "metadata": {},
   "outputs": [
    {
     "name": "stdout",
     "output_type": "stream",
     "text": [
      "O tempo utilizado foi de 0.0009014999959617853\n",
      "O tempo utilizado foi de 0.00010499998461455107\n",
      "0.0010064999805763364\n"
     ]
    },
    {
     "name": "stderr",
     "output_type": "stream",
     "text": [
      "C:\\Users\\julia24002\\AppData\\Local\\Temp\\ipykernel_27292\\2735442049.py:47: DeprecationWarning: Conversion of an array with ndim > 0 to a scalar is deprecated, and will error in future. Ensure you extract a single element from your array before performing this operation. (Deprecated NumPy 1.25.)\n",
      "  solucao[linha] = (matrizB[linha] - soma) / matrizA[linha][linha]\n"
     ]
    }
   ],
   "source": [
    "MatrizA2 = np.array([[2,1,1,0], [4,3,3,1], [8,7,9,5], [6,7,9,8]])\n",
    "MatrizB2= np.array([[2], [3], [1], [-4]])\n",
    "\n",
    "# LU\n",
    "tempo_inicial = timeit.default_timer()\n",
    "MatrizP, MatrizL, MatrizU = decomposicao_LU(MatrizA2)\n",
    "solucao_lu = resolucao_decomposicao_LU(MatrizL, MatrizU, MatrizB2, MatrizP)\n",
    "tempo_final = timeit.default_timer()\n",
    "diferenca_de_tempo2 = tempo_final-tempo_inicial\n",
    "print(f\"O tempo utilizado foi de {diferenca_de_tempo2}\")\n",
    "\n",
    "MatrizB4= np.array([[3], [4], [5], [10]])\n",
    "                   \n",
    "tempo_inicial = timeit.default_timer()\n",
    "solucao_lu = resolucao_decomposicao_LU(MatrizL, MatrizU, MatrizB4, MatrizP)\n",
    "tempo_final = timeit.default_timer()\n",
    "diferenca_de_tempo4 = tempo_final-tempo_inicial\n",
    "print(f\"O tempo utilizado foi de {diferenca_de_tempo4}\")\n",
    "\n",
    "print(diferenca_de_tempo2+diferenca_de_tempo4)"
   ]
  },
  {
   "cell_type": "markdown",
   "metadata": {},
   "source": [
    "O método LU é especialmente vantajoso para a resolução de mais de um sistema linear, nos quais há apenas diferenças na matriz B. \n",
    "Para um sistema linear único, como demonstrado pela diferença nos tempos obtidos para o código acima*, a eliminação gaussiana é mais efetiva. Apesar dos dois métodos apresentarem complexidade O(n^3), isto é, que cresce cubicamente em relação ao número de linhas da matriz, a eliminação gaussiana realiza menos operações, visto que apenas calcula a uma decomposição. No entanto, quando analisamos mais de um sistema linear, considerando a reutilização das decomposições, o método LU apresenta um tempo menor de resolução.\n",
    "\n",
    "Isso ocorre pois na eliminação gaussiana, é necessário recalcular a decomposição da matriz A sempre que a matriz B é alterada, visto que a transformação em triangular superior também implica na transformação da matriz de resultado. Já na decomposição LU, como a decomposição leva apenas em consideração a matriz A, é necessário apenas recalcular a resolução. \n",
    "\n",
    "\n",
    "*A diferença de tempo é mais perceptível em matrizes maiores, em razão da relação entre o aumento da complexidade e uma maior quantidade de linhas"
   ]
  },
  {
   "cell_type": "code",
   "execution_count": 11,
   "metadata": {},
   "outputs": [
    {
     "data": {
      "text/plain": [
       "array([   453.42857143,  -4475.47619048,  14428.57142857, -15309.52380952])"
      ]
     },
     "execution_count": 11,
     "metadata": {},
     "output_type": "execute_result"
    }
   ],
   "source": [
    "matriza = np.array([[1, 0.1, 0.001, 0.001], [1, 0.2, 0.04, 0.008], [1, 0.3, 0.09, 0.027], [1, 0.4, 0.16, 0.064]])\n",
    "matrizb = np.array([5, 13, -4, -8])\n",
    "matrizp, matrizl, matrizu = decomposicao_LU(matriza)\n",
    "resolucao_decomposicao_LU(matrizl, matrizu, matrizb, matrizp)"
   ]
  }
 ],
 "metadata": {
  "kernelspec": {
   "display_name": "ilumpy",
   "language": "python",
   "name": "ilumpy"
  },
  "language_info": {
   "codemirror_mode": {
    "name": "ipython",
    "version": 3
   },
   "file_extension": ".py",
   "mimetype": "text/x-python",
   "name": "python",
   "nbconvert_exporter": "python",
   "pygments_lexer": "ipython3",
   "version": "3.11.6"
  }
 },
 "nbformat": 4,
 "nbformat_minor": 2
}
