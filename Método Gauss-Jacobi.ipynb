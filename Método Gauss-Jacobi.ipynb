{
 "cells": [
  {
   "cell_type": "markdown",
   "metadata": {},
   "source": [
    "#### 📚  **Importação de bibliotecas**"
   ]
  },
  {
   "cell_type": "code",
   "execution_count": 2,
   "metadata": {},
   "outputs": [],
   "source": [
    "import numpy as np"
   ]
  },
  {
   "cell_type": "markdown",
   "metadata": {},
   "source": [
    "#### 📁 **Códigos das atividades passadas**"
   ]
  },
  {
   "cell_type": "code",
   "execution_count": 3,
   "metadata": {},
   "outputs": [],
   "source": [
    "# Matriz Inversa\n",
    "def retirar_linha_coluna(array, linha_remover, coluna_remover):\n",
    "    nova_matriz = []\n",
    "\n",
    "    for i, linha in enumerate(array):\n",
    "        if i != linha_remover:\n",
    "            nova_linha = []\n",
    "            for j, elemento in enumerate(linha):\n",
    "                if j != coluna_remover:\n",
    "                    nova_linha.append(elemento)\n",
    "            nova_matriz.append(nova_linha)\n",
    "    return nova_matriz\n",
    "\n",
    "def determinante(array):\n",
    "    tamanho = len(array)\n",
    "    if len(array) == 1:\n",
    "        return array[0][0]\n",
    "    if len(array) == 2:\n",
    "        return array[0][0]*array[1][1] - array[0][1]*array[1][0]\n",
    "    det = 0\n",
    "    for coluna in range(tamanho):\n",
    "        submatriz = retirar_linha_coluna(array, 0, coluna)\n",
    "        cofator = ((-1) ** coluna) * array[0][coluna] * determinante(submatriz)\n",
    "        det += cofator  \n",
    "    return det\n",
    "\n",
    "def cofator(array, i, j):\n",
    "    submatriz = retirar_linha_coluna(array, i, j)\n",
    "    cofator_val = ((-1) ** (i + j)) * determinante(submatriz)\n",
    "    return cofator_val\n",
    "\n",
    "def matriz_transposta(array):\n",
    "    transposta = []\n",
    "    num_linhas = len(array)\n",
    "    num_colunas = len(array[0])\n",
    "\n",
    "    for j in range(num_colunas):\n",
    "        nova_linha = []\n",
    "        for i in range(num_linhas):\n",
    "            nova_linha.append(array[i][j])\n",
    "        transposta.append(nova_linha)\n",
    "    return transposta\n",
    "\n",
    "\n",
    "# Eliminação Gaussiana\n",
    "def resolucao_matriz_triangular_superior(matrizA, matrizB):\n",
    "    tamanho = len(matrizA)\n",
    "    solucao = np.zeros(tamanho)\n",
    "    \n",
    "    for linha in range(tamanho - 1, -1, -1):\n",
    "        soma = 0\n",
    "        for coluna in range(linha + 1, tamanho):\n",
    "            soma += matrizA[linha][coluna] * solucao[coluna] \n",
    "        \n",
    "        solucao[linha] = (matrizB[linha] - soma) / matrizA[linha][linha] \n",
    "        \n",
    "    return solucao\n",
    "\n",
    "def eliminacao_gaussiana(MatrizA, MatrizB):\n",
    "    tamanho = len(MatrizA)\n",
    "        \n",
    "    for i in range(tamanho):\n",
    "        \n",
    "        for j in range(i + 1, tamanho):\n",
    "            if MatrizA[i][i] != 0:\n",
    "                mij = MatrizA[j][i] / MatrizA[i][i] \n",
    "                MatrizB[j] = MatrizB[j] - mij * MatrizB[i] \n",
    "                for k in range(i, tamanho):\n",
    "                    MatrizA[j][k] = MatrizA[j][k] - mij * MatrizA[i][k] \n",
    "                \n",
    "    resolucao = resolucao_matriz_triangular_superior(MatrizA, MatrizB)\n",
    "    return resolucao\n"
   ]
  },
  {
   "cell_type": "markdown",
   "metadata": {},
   "source": [
    "#### 🎯**Matrizes de teste**"
   ]
  },
  {
   "cell_type": "code",
   "execution_count": 4,
   "metadata": {},
   "outputs": [],
   "source": [
    "matriz_chute = np.array([[1], [1], [1]])\n",
    "\n",
    "matriz_a1 = np.array([[10, 1, 2], [1, 5, 1], [2, 3, 10]]) \n",
    "matriz_b1 = np.array([[-1], [1], [4]])\n",
    "\n",
    "matriz_a2 = np.array([[3, 2, 4], [1, 1, 2], [4, 3, 2]])\n",
    "matriz_b2 = np.array([[1], [2], [3]])\n",
    "\n",
    "matriz_a3 = np.array([[1, 3, -1], [2, 6 , 1], [-1, 1, 4]])\n",
    "matriz_b3 = np.array([[1], [0], [2]])"
   ]
  },
  {
   "cell_type": "markdown",
   "metadata": {},
   "source": [
    "#### 🔴**Questão 1**"
   ]
  },
  {
   "cell_type": "markdown",
   "metadata": {},
   "source": [
    "Faça um código em Python que resolva um sistema linear por meio do método de Gauss-Jacobi, verificando se uma matriz cumpre o critério de convergência de linhas.\n",
    "\n",
    "*obs*: Para isso, utilize como critério de parada um número de iterações Iter ou um erro estipulado Err. \n"
   ]
  },
  {
   "cell_type": "code",
   "execution_count": 5,
   "metadata": {},
   "outputs": [],
   "source": [
    "def criterio_de_convergencia(matriz):\n",
    "    criterio_de_linhas = True\n",
    "    alfa_linhas = []\n",
    "    for linha in matriz:\n",
    "        soma_linhas = np.sum(linha)\n",
    "        ultimo_elemento = abs(linha[-1])\n",
    "        if ultimo_elemento != 0:\n",
    "            alfak = soma_linhas / ultimo_elemento\n",
    "            alfa_linhas.append(alfak)\n",
    "        else:\n",
    "            raise ValueError(\"Divisão por zero!\")\n",
    "               \n",
    "    if max(alfa_linhas) <= 1:\n",
    "            criterio_de_linhas = False\n",
    "\n",
    "            \n",
    "    return criterio_de_linhas    "
   ]
  },
  {
   "cell_type": "code",
   "execution_count": 6,
   "metadata": {},
   "outputs": [],
   "source": [
    "def gauss_jacobi(MatrizA, MatrizB, Matriz_chute):\n",
    "    \"\"\"Implementação do método de Gauss-Jacobi com número máximo de iterações\"\"\"\n",
    "    if criterio_de_convergencia(MatrizA):\n",
    "        iteracoes_permitidas = 100\n",
    "        tolerancia_permitida = 0.01\n",
    "        tamanho = len(MatrizA)\n",
    "\n",
    "        matriz_g = np.zeros((tamanho, 1))\n",
    "        matriz_c = np.zeros((tamanho, tamanho))\n",
    "\n",
    "        # Calcula matriz_g e matriz_c\n",
    "        for i in range(tamanho):\n",
    "            matriz_g[i] = MatrizB[i] / MatrizA[i, i]\n",
    "            for j in range(tamanho):\n",
    "                if j != i:\n",
    "                    matriz_c[i, j] = -MatrizA[i, j] / MatrizA[i, i]\n",
    "        \n",
    "        for iteracao in range(iteracoes_permitidas):\n",
    "            matriz_chute_linha = Matriz_chute.copy()\n",
    "            Matriz_chute = matriz_c @ Matriz_chute + matriz_g\n",
    "\n",
    "            distancia = np.max(np.abs(Matriz_chute - matriz_chute_linha))\n",
    "            erro_relativo = distancia / (np.max(np.abs(Matriz_chute)))\n",
    "            \n",
    "            if erro_relativo < tolerancia_permitida:\n",
    "                print(f\"Convergência alcançada após {iteracao + 1} iterações.\")\n",
    "                return Matriz_chute\n",
    "        \n",
    "        print(\"Número máximo de iterações alcançado. A solução pode não ter convergido.\")\n",
    "        return Matriz_chute\n",
    "    \n",
    "    else:\n",
    "        raise ValueError(\"A matriz A inserida pode não convergir, porque não é dominante na diagonal principal :(\")"
   ]
  },
  {
   "cell_type": "markdown",
   "metadata": {},
   "source": [
    "#### 🟡**Questão 2**"
   ]
  },
  {
   "cell_type": "markdown",
   "metadata": {},
   "source": [
    "Considere os sistemas lineares abaixo. Utilize o programa desenvolvido no Exercício 1 para resolver apenas os sistemas que cumprem o critério das linhas.\n"
   ]
  },
  {
   "cell_type": "code",
   "execution_count": 7,
   "metadata": {},
   "outputs": [
    {
     "name": "stdout",
     "output_type": "stream",
     "text": [
      "Convergência alcançada após 8 iterações.\n"
     ]
    },
    {
     "data": {
      "text/plain": [
       "array([[-0.19371456],\n",
       "       [ 0.16129152],\n",
       "       [ 0.39129792]])"
      ]
     },
     "execution_count": 7,
     "metadata": {},
     "output_type": "execute_result"
    }
   ],
   "source": [
    "gauss_jacobi(matriz_a1, matriz_b1, matriz_chute)"
   ]
  },
  {
   "cell_type": "code",
   "execution_count": 8,
   "metadata": {},
   "outputs": [
    {
     "name": "stdout",
     "output_type": "stream",
     "text": [
      "Número máximo de iterações alcançado. A solução pode não ter convergido.\n"
     ]
    },
    {
     "data": {
      "text/plain": [
       "array([[7.00107424e+44],\n",
       "       [9.58661572e+44],\n",
       "       [1.00441135e+45]])"
      ]
     },
     "execution_count": 8,
     "metadata": {},
     "output_type": "execute_result"
    }
   ],
   "source": [
    "gauss_jacobi(matriz_a2, matriz_b2, matriz_chute)"
   ]
  },
  {
   "cell_type": "code",
   "execution_count": 9,
   "metadata": {},
   "outputs": [
    {
     "name": "stdout",
     "output_type": "stream",
     "text": [
      "Número máximo de iterações alcançado. A solução pode não ter convergido.\n"
     ]
    },
    {
     "data": {
      "text/plain": [
       "array([[ 6.13700868e+08],\n",
       "       [-1.92011015e+08],\n",
       "       [ 1.66483160e+08]])"
      ]
     },
     "execution_count": 9,
     "metadata": {},
     "output_type": "execute_result"
    }
   ],
   "source": [
    "gauss_jacobi(matriz_a3, matriz_b3, matriz_chute)"
   ]
  },
  {
   "cell_type": "markdown",
   "metadata": {},
   "source": [
    "### 🟢 **Questão 3**"
   ]
  },
  {
   "cell_type": "markdown",
   "metadata": {},
   "source": [
    "Apresente uma situação que satisfaça cada um dos casos abaixo:\n",
    "\n",
    "1. O método direto (Eliminação Gaussiana ou LU) é mais adequado que o método iterativo (Gauss-Jacobi)\n",
    "\n"
   ]
  },
  {
   "cell_type": "markdown",
   "metadata": {},
   "source": [
    "<p style=\"text-align: justify;\">\n",
    "Métodos diretos, tais como a eliminação gaussiana ou decomposição LU, são ideais para a resolução de <b>sistemas lineares menores </b>, visto que apresentam soluções precisas por meio de um grande número de iterações, as quais demandam grande custo computacional (complexidade O(n^3), ou seja, cresce cubicamente a partir do número de linhas). Ademais, esses métodos podem promover perda da estrutura da matriz - especialmente se essa for inicialmente esparsa.\n",
    "<p>"
   ]
  },
  {
   "cell_type": "markdown",
   "metadata": {},
   "source": [
    "*Exemplo de uso*"
   ]
  },
  {
   "cell_type": "markdown",
   "metadata": {},
   "source": [
    "\\begin{cases}\n",
    "2x_1 + x_2 - x_3 = 2 \\\\\n",
    "4x_1 + 3x_2 - 3x_3 = 3 \\\\\n",
    "8x_1 - 7x_2 + x_3 = 1\n",
    "\\end{cases}"
   ]
  },
  {
   "cell_type": "code",
   "execution_count": 10,
   "metadata": {},
   "outputs": [
    {
     "name": "stderr",
     "output_type": "stream",
     "text": [
      "C:\\Users\\julia24002\\AppData\\Local\\Temp\\ipykernel_20796\\1820129199.py:55: DeprecationWarning: Conversion of an array with ndim > 0 to a scalar is deprecated, and will error in future. Ensure you extract a single element from your array before performing this operation. (Deprecated NumPy 1.25.)\n",
      "  solucao[linha] = (matrizB[linha] - soma) / matrizA[linha][linha]\n"
     ]
    },
    {
     "data": {
      "text/plain": [
       "array([ 1.5,  1. , -2. ])"
      ]
     },
     "execution_count": 10,
     "metadata": {},
     "output_type": "execute_result"
    }
   ],
   "source": [
    "MatrizA = np.array([[2,1,1], [4,3,3], [8,7,9]])\n",
    "MatrizB= np.array([[2], [3], [1]])\n",
    "\n",
    "# Aqui utiluzei a eliminação gaussiana por se tratar de um sistema linear com apenas uma matriz B\n",
    "eliminacao_gaussiana(MatrizA, MatrizB)"
   ]
  },
  {
   "cell_type": "markdown",
   "metadata": {},
   "source": [
    "2. O método iterativo (Gauss-Jacobi) é mais adequado que o método direto (Eliminação Gaussiana ou LU) "
   ]
  },
  {
   "cell_type": "markdown",
   "metadata": {},
   "source": [
    "<p style=\"text-align: justify;\">\n",
    "O método de Gauss-Jacobi é especialmente vantajoso para a resolução de sistemas lineares onde a matriz é <b>esparsa</b>, ou seja, contém muitos elementos nulos. Em métodos diretos, mesmo com o auxílio do pivoteamento, os zeros podem causar instabilidade numérica na operação. Além disso, a matriz, originalmente esparsa, pode perder sua conformação, tornando-se mais densa ao longo do processo. Vale ressaltar ainda, que esse método pode ser eficaz em problemas grandes, nos quais a precisão não é um fator decisivo e o custo computacional é alto.\n",
    "<p>"
   ]
  },
  {
   "cell_type": "markdown",
   "metadata": {},
   "source": [
    "*Exemplo*"
   ]
  },
  {
   "cell_type": "markdown",
   "metadata": {},
   "source": [
    "\\begin{cases}\n",
    "x_1 + 1/10x_3 = 1/3 \\\\\n",
    "5x_2 + 1/5x_3= 1/10 \\\\\n",
    "1/100x_1 + 2x_3 = 4/7\n",
    "\n",
    "\n",
    "\\end{cases}"
   ]
  },
  {
   "cell_type": "code",
   "execution_count": 11,
   "metadata": {},
   "outputs": [
    {
     "name": "stdout",
     "output_type": "stream",
     "text": [
      "Convergência alcançada após 3 iterações.\n"
     ]
    },
    {
     "data": {
      "text/plain": [
       "array([[0.30487857],\n",
       "       [0.0086181 ],\n",
       "       [0.28418798]])"
      ]
     },
     "execution_count": 11,
     "metadata": {},
     "output_type": "execute_result"
    }
   ],
   "source": [
    "MatrizA2 = np.array([\n",
    "    [1, 0, 1/10],\n",
    "    [0, 5, 1/5],\n",
    "    [1/100, 0, 2]\n",
    "])\n",
    "MatrizB2= np.array([[1/3], [1/10], [4/7]])\n",
    "gauss_jacobi(MatrizA2, MatrizB2, matriz_chute)"
   ]
  },
  {
   "cell_type": "markdown",
   "metadata": {},
   "source": [
    "**Feedback**: Foi divertido :)"
   ]
  },
  {
   "cell_type": "code",
   "execution_count": 13,
   "metadata": {},
   "outputs": [
    {
     "name": "stdout",
     "output_type": "stream",
     "text": [
      "Número máximo de iterações alcançado. A solução pode não ter convergido.\n"
     ]
    },
    {
     "data": {
      "text/plain": [
       "array([[-1.22391538e+22, -3.21729946e+21,  1.34716288e+22,\n",
       "         3.03819966e+22],\n",
       "       [-1.77219529e+23, -4.65855976e+22,  1.95065422e+23,\n",
       "         4.39922824e+23],\n",
       "       [-7.84938015e+23, -2.06336213e+23,  8.63980773e+23,\n",
       "         1.94849942e+24],\n",
       "       [-1.95104599e+24, -5.12870360e+23,  2.14751508e+24,\n",
       "         4.84320024e+24]])"
      ]
     },
     "execution_count": 13,
     "metadata": {},
     "output_type": "execute_result"
    }
   ],
   "source": [
    "matriza = np.array([[1, 0.1, 0.001, 0.001], [1, 0.2, 0.04, 0.008], [1, 0.3, 0.09, 0.027], [1, 0.4, 0.16, 0.064]])\n",
    "matrizb = np.array([5, 13, -4, -8])\n",
    "gauss_jacobi(matriza, matrizb, [1,1,1,1])"
   ]
  }
 ],
 "metadata": {
  "kernelspec": {
   "display_name": "ilumpy",
   "language": "python",
   "name": "ilumpy"
  },
  "language_info": {
   "codemirror_mode": {
    "name": "ipython",
    "version": 3
   },
   "file_extension": ".py",
   "mimetype": "text/x-python",
   "name": "python",
   "nbconvert_exporter": "python",
   "pygments_lexer": "ipython3",
   "version": "3.11.6"
  }
 },
 "nbformat": 4,
 "nbformat_minor": 2
}
