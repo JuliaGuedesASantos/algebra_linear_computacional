{
 "cells": [
  {
   "cell_type": "code",
   "execution_count": 8,
   "metadata": {},
   "outputs": [],
   "source": [
    "import numpy as np"
   ]
  },
  {
   "cell_type": "code",
   "execution_count": 9,
   "metadata": {},
   "outputs": [
    {
     "name": "stdout",
     "output_type": "stream",
     "text": [
      "[[3 2 4]\n",
      " [1 1 2]\n",
      " [4 3 2]]\n"
     ]
    }
   ],
   "source": [
    "A = [\n",
    "    [3,2,4],\n",
    "    [1,1,2],\n",
    "    [4,3,2]\n",
    "]\n",
    "matrizA = np.array(A)\n",
    "print(matrizA)\n",
    "#print(list(matrizA.shape))"
   ]
  },
  {
   "cell_type": "code",
   "execution_count": 10,
   "metadata": {},
   "outputs": [
    {
     "data": {
      "text/plain": [
       "-4"
      ]
     },
     "execution_count": 10,
     "metadata": {},
     "output_type": "execute_result"
    }
   ],
   "source": [
    "def retirar_linha_coluna(array, linha_remover, coluna_remover):\n",
    "    nova_matriz = []\n",
    "\n",
    "    for i, linha in enumerate(array):\n",
    "        if i != linha_remover:\n",
    "            nova_linha = []\n",
    "            for j, elemento in enumerate(linha):\n",
    "                if j != coluna_remover:\n",
    "                    nova_linha.append(elemento)\n",
    "            nova_matriz.append(nova_linha)\n",
    "    return nova_matriz\n",
    "\n",
    "def determinante(array):\n",
    "    \"\"\" Tentativa de fazer um algoritmo recursivo para cálculo de determinante a partir do método de Laplace\"\"\"\n",
    "    tamanho = len(array)\n",
    "    if len(array) == 1:\n",
    "        return array[0][0]\n",
    "    if len(array) == 2:\n",
    "        return array[0][0]*array[1][1] - array[0][1]*array[1][0]\n",
    "    det = 0\n",
    "    for coluna in range(tamanho):\n",
    "        submatriz = retirar_linha_coluna(array, 0, coluna)\n",
    "        cofator = ((-1) ** coluna) * array[0][coluna] * determinante(submatriz)\n",
    "        det += cofator\n",
    "        \n",
    "    return det\n",
    "len(matrizA)\n",
    "determinante(matrizA)"
   ]
  },
  {
   "cell_type": "code",
   "execution_count": 11,
   "metadata": {},
   "outputs": [
    {
     "name": "stdout",
     "output_type": "stream",
     "text": [
      "[[ -4   6  -1]\n",
      " [  8 -10  -1]\n",
      " [  0  -2   1]]\n",
      "[[-4, 8, 0], [6, -10, -2], [-1, -1, 1]]\n"
     ]
    },
    {
     "data": {
      "text/plain": [
       "('A matriz inversa é igual a',\n",
       " array([[ 1.  , -2.  , -0.  ],\n",
       "        [-1.5 ,  2.5 ,  0.5 ],\n",
       "        [ 0.25,  0.25, -0.25]]))"
      ]
     },
     "execution_count": 11,
     "metadata": {},
     "output_type": "execute_result"
    }
   ],
   "source": [
    "def cofator(array, i, j):\n",
    "    submatriz = retirar_linha_coluna(array, i, j)\n",
    "    cofator_val = ((-1) ** (i + j)) * determinante(submatriz)\n",
    "    return cofator_val\n",
    "\n",
    "def matriz_transposta(array):\n",
    "    transposta = []\n",
    "    num_linhas = len(array)\n",
    "    num_colunas = len(array[0])\n",
    "\n",
    "    for j in range(num_colunas):\n",
    "        nova_linha = []\n",
    "        for i in range(num_linhas):\n",
    "            nova_linha.append(array[i][j])\n",
    "        transposta.append(nova_linha)\n",
    "    return transposta\n",
    "\n",
    "def matriz_inversa(array):\n",
    "    matriz = list(array)\n",
    "    determinante_array = determinante(array)\n",
    "    if determinante_array != 0:\n",
    "        matriz_aji = []\n",
    "        matriz_aji = []\n",
    "        for i in range(len(array)):\n",
    "            linha_aji = []\n",
    "            for j in range(len(array[i])):\n",
    "                item_cofator = cofator(array, i, j)\n",
    "                linha_aji.append(item_cofator)\n",
    "            matriz_aji.append(linha_aji)\n",
    "        matriz_aji = np.array(matriz_aji)\n",
    "        print(matriz_aji)\n",
    "        matriz_adj = matriz_transposta(matriz_aji)\n",
    "        print(matriz_adj)\n",
    "        matriz_adj = np.array(matriz_adj)\n",
    "        matriz_inversa = (1/determinante_array) * matriz_adj\n",
    "    else:\n",
    "        raise ValueError(\"Não é possível calcular a matriz inversa de matrizes com determinante igual a 0!\")\n",
    "    return \"A matriz inversa é igual a\", matriz_inversa\n",
    "\n",
    "matriz_inversa(matrizA)"
   ]
  },
  {
   "cell_type": "code",
   "execution_count": 13,
   "metadata": {},
   "outputs": [
    {
     "name": "stdout",
     "output_type": "stream",
     "text": [
      "[[ 4  0  0  0]\n",
      " [-4  8  0  0]\n",
      " [ 0 -4  4  0]\n",
      " [ 2  0 -4  4]]\n",
      "[[4, -4, 0, 2], [0, 8, -4, 0], [0, 0, 4, -4], [0, 0, 0, 4]]\n"
     ]
    },
    {
     "data": {
      "text/plain": [
       "8"
      ]
     },
     "execution_count": 13,
     "metadata": {},
     "output_type": "execute_result"
    }
   ],
   "source": [
    "matrizB = np.array([[2,1,1,0], [0,1,1,1], [0,0,2,2], [0,0,0,2]])\n",
    "m = matriz_inversa(matrizB)\n",
    "determinante(matrizB)"
   ]
  },
  {
   "cell_type": "code",
   "execution_count": 15,
   "metadata": {},
   "outputs": [
    {
     "name": "stdout",
     "output_type": "stream",
     "text": [
      "O determinante da matriz A é igual a -4. Logo, é possível calcular a matriz B!\n",
      "A matriz inversa de A (matriz B) é\n",
      "[[ 1.   -2.    0.  ]\n",
      " [-1.5   2.5   0.5 ]\n",
      " [ 0.25  0.25 -0.25]]\n"
     ]
    }
   ],
   "source": [
    "def matriz_inversaa(matrizA):\n",
    "    \"\"\"Método mais fácil para resolver matriz inversa\"\"\"\n",
    "    matrizA = np.array(matrizA)\n",
    "    detA = determinante(matrizA)\n",
    "    if detA != 0:\n",
    "        print(f\"O determinante da matriz A é igual a {detA}. Logo, é possível calcular a matriz B!\")\n",
    "        matrizB = np.linalg.inv(matrizA)\n",
    "        print(\"A matriz inversa de A (matriz B) é\")\n",
    "        print(matrizB)\n",
    "        # print(np.round(matrizA @ matrizB, 2)) #Esse resultado deverá ser igual a uma matriz identidade\n",
    "    else:\n",
    "        print(f\"O determinante da matriz A é igual a 0. Logo, não é possível calcular a matriz B :(\")\n",
    "matriz_inversaa(A)"
   ]
  },
  {
   "cell_type": "code",
   "execution_count": 16,
   "metadata": {},
   "outputs": [
    {
     "name": "stdout",
     "output_type": "stream",
     "text": [
      "O determinante da matriz A é igual a 8. Logo, é possível calcular a matriz B!\n",
      "A matriz inversa de A (matriz B) é\n",
      "[[ 0.5 -0.5  0.   0. ]\n",
      " [ 0.   1.  -0.5  0.5]\n",
      " [ 0.   0.   0.5 -0.5]\n",
      " [ 0.   0.   0.   0.5]]\n"
     ]
    }
   ],
   "source": [
    "matrizA = np.array([[2,1,1,0],[0,1,1,0],[0,0,2,2],[0,0,0,2]])\n",
    "\n",
    "matriz_inversaa(matrizA)"
   ]
  },
  {
   "cell_type": "markdown",
   "metadata": {},
   "source": [
    "## Bibliografia!"
   ]
  },
  {
   "cell_type": "markdown",
   "metadata": {},
   "source": [
    "[1] Cassar, Daniel Roberto. \"Módulo Numpy\". Acesso em 11 de agosto de 2024. (Apostila da disciplina de probabilidade e estatística)"
   ]
  }
 ],
 "metadata": {
  "kernelspec": {
   "display_name": "ilumpy",
   "language": "python",
   "name": "ilumpy"
  },
  "language_info": {
   "codemirror_mode": {
    "name": "ipython",
    "version": 3
   },
   "file_extension": ".py",
   "mimetype": "text/x-python",
   "name": "python",
   "nbconvert_exporter": "python",
   "pygments_lexer": "ipython3",
   "version": "3.11.6"
  }
 },
 "nbformat": 4,
 "nbformat_minor": 2
}
